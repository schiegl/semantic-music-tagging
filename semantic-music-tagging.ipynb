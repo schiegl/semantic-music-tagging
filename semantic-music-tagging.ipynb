{
 "nbformat": 4,
 "nbformat_minor": 2,
 "metadata": {
  "language_info": {
   "name": "python",
   "codemirror_mode": {
    "name": "ipython",
    "version": 3
   },
   "version": "3.8.1-final"
  },
  "orig_nbformat": 2,
  "file_extension": ".py",
  "mimetype": "text/x-python",
  "name": "python",
  "npconvert_exporter": "python",
  "pygments_lexer": "ipython3",
  "version": 3,
  "kernelspec": {
   "name": "python38164bitmusicanalysiscondabe7ff345cf3449e1b0127679bdb8f85e",
   "display_name": "Python 3.8.1 64-bit ('music-analysis': conda)"
  }
 },
 "cells": [
  {
   "cell_type": "markdown",
   "metadata": {},
   "source": [
    "# Semantic Music Tagging"
   ]
  },
  {
   "cell_type": "code",
   "execution_count": 2,
   "metadata": {},
   "outputs": [],
   "source": [
    "import pandas as pd"
   ]
  },
  {
   "cell_type": "markdown",
   "metadata": {},
   "source": [
    "## Dataset\n",
    "\n",
    "**Source:** http://mirg.city.ac.uk/codeapps/the-magnatagatune-dataset\n"
   ]
  },
  {
   "cell_type": "code",
   "execution_count": 9,
   "metadata": {},
   "outputs": [
    {
     "data": {
      "text/html": "<div>\n<style scoped>\n    .dataframe tbody tr th:only-of-type {\n        vertical-align: middle;\n    }\n\n    .dataframe tbody tr th {\n        vertical-align: top;\n    }\n\n    .dataframe thead th {\n        text-align: right;\n    }\n</style>\n<table border=\"1\" class=\"dataframe\">\n  <thead>\n    <tr style=\"text-align: right;\">\n      <th></th>\n      <th>clip_id</th>\n      <th>track_number</th>\n      <th>title</th>\n      <th>artist</th>\n      <th>album</th>\n      <th>url</th>\n      <th>segmentStart</th>\n      <th>segmentEnd</th>\n      <th>original_url</th>\n      <th>mp3_path</th>\n    </tr>\n  </thead>\n  <tbody>\n    <tr>\n      <th>0</th>\n      <td>2</td>\n      <td>1</td>\n      <td>BWV54 - I Aria</td>\n      <td>American Bach Soloists</td>\n      <td>J.S. Bach Solo Cantatas</td>\n      <td>http://www.magnatune.com/artists/albums/abs-so...</td>\n      <td>30</td>\n      <td>59</td>\n      <td>http://he3.magnatune.com/all/01--BWV54%20-%20I...</td>\n      <td>f/american_bach_soloists-j_s__bach_solo_cantat...</td>\n    </tr>\n    <tr>\n      <th>1</th>\n      <td>6</td>\n      <td>1</td>\n      <td>BWV54 - I Aria</td>\n      <td>American Bach Soloists</td>\n      <td>J.S. Bach Solo Cantatas</td>\n      <td>http://www.magnatune.com/artists/albums/abs-so...</td>\n      <td>146</td>\n      <td>175</td>\n      <td>http://he3.magnatune.com/all/01--BWV54%20-%20I...</td>\n      <td>f/american_bach_soloists-j_s__bach_solo_cantat...</td>\n    </tr>\n    <tr>\n      <th>2</th>\n      <td>10</td>\n      <td>1</td>\n      <td>BWV54 - I Aria</td>\n      <td>American Bach Soloists</td>\n      <td>J.S. Bach Solo Cantatas</td>\n      <td>http://www.magnatune.com/artists/albums/abs-so...</td>\n      <td>262</td>\n      <td>291</td>\n      <td>http://he3.magnatune.com/all/01--BWV54%20-%20I...</td>\n      <td>f/american_bach_soloists-j_s__bach_solo_cantat...</td>\n    </tr>\n    <tr>\n      <th>3</th>\n      <td>11</td>\n      <td>1</td>\n      <td>BWV54 - I Aria</td>\n      <td>American Bach Soloists</td>\n      <td>J.S. Bach Solo Cantatas</td>\n      <td>http://www.magnatune.com/artists/albums/abs-so...</td>\n      <td>291</td>\n      <td>320</td>\n      <td>http://he3.magnatune.com/all/01--BWV54%20-%20I...</td>\n      <td>f/american_bach_soloists-j_s__bach_solo_cantat...</td>\n    </tr>\n    <tr>\n      <th>4</th>\n      <td>12</td>\n      <td>1</td>\n      <td>BWV54 - I Aria</td>\n      <td>American Bach Soloists</td>\n      <td>J.S. Bach Solo Cantatas</td>\n      <td>http://www.magnatune.com/artists/albums/abs-so...</td>\n      <td>320</td>\n      <td>349</td>\n      <td>http://he3.magnatune.com/all/01--BWV54%20-%20I...</td>\n      <td>f/american_bach_soloists-j_s__bach_solo_cantat...</td>\n    </tr>\n  </tbody>\n</table>\n</div>",
      "text/plain": "   clip_id  track_number           title                  artist  \\\n0        2             1  BWV54 - I Aria  American Bach Soloists   \n1        6             1  BWV54 - I Aria  American Bach Soloists   \n2       10             1  BWV54 - I Aria  American Bach Soloists   \n3       11             1  BWV54 - I Aria  American Bach Soloists   \n4       12             1  BWV54 - I Aria  American Bach Soloists   \n\n                     album                                                url  \\\n0  J.S. Bach Solo Cantatas  http://www.magnatune.com/artists/albums/abs-so...   \n1  J.S. Bach Solo Cantatas  http://www.magnatune.com/artists/albums/abs-so...   \n2  J.S. Bach Solo Cantatas  http://www.magnatune.com/artists/albums/abs-so...   \n3  J.S. Bach Solo Cantatas  http://www.magnatune.com/artists/albums/abs-so...   \n4  J.S. Bach Solo Cantatas  http://www.magnatune.com/artists/albums/abs-so...   \n\n   segmentStart  segmentEnd  \\\n0            30          59   \n1           146         175   \n2           262         291   \n3           291         320   \n4           320         349   \n\n                                        original_url  \\\n0  http://he3.magnatune.com/all/01--BWV54%20-%20I...   \n1  http://he3.magnatune.com/all/01--BWV54%20-%20I...   \n2  http://he3.magnatune.com/all/01--BWV54%20-%20I...   \n3  http://he3.magnatune.com/all/01--BWV54%20-%20I...   \n4  http://he3.magnatune.com/all/01--BWV54%20-%20I...   \n\n                                            mp3_path  \n0  f/american_bach_soloists-j_s__bach_solo_cantat...  \n1  f/american_bach_soloists-j_s__bach_solo_cantat...  \n2  f/american_bach_soloists-j_s__bach_solo_cantat...  \n3  f/american_bach_soloists-j_s__bach_solo_cantat...  \n4  f/american_bach_soloists-j_s__bach_solo_cantat...  "
     },
     "execution_count": 9,
     "metadata": {},
     "output_type": "execute_result"
    }
   ],
   "source": [
    "clips = pd.read_csv('./data/clip_info_final.csv', delimiter='\\t')\n",
    "clips.head()"
   ]
  },
  {
   "cell_type": "code",
   "execution_count": 10,
   "metadata": {},
   "outputs": [
    {
     "data": {
      "text/html": "<div>\n<style scoped>\n    .dataframe tbody tr th:only-of-type {\n        vertical-align: middle;\n    }\n\n    .dataframe tbody tr th {\n        vertical-align: top;\n    }\n\n    .dataframe thead th {\n        text-align: right;\n    }\n</style>\n<table border=\"1\" class=\"dataframe\">\n  <thead>\n    <tr style=\"text-align: right;\">\n      <th></th>\n      <th>clip_id</th>\n      <th>no voice</th>\n      <th>singer</th>\n      <th>duet</th>\n      <th>plucking</th>\n      <th>hard rock</th>\n      <th>world</th>\n      <th>bongos</th>\n      <th>harpsichord</th>\n      <th>female singing</th>\n      <th>...</th>\n      <th>rap</th>\n      <th>metal</th>\n      <th>hip hop</th>\n      <th>quick</th>\n      <th>water</th>\n      <th>baroque</th>\n      <th>women</th>\n      <th>fiddle</th>\n      <th>english</th>\n      <th>mp3_path</th>\n    </tr>\n  </thead>\n  <tbody>\n    <tr>\n      <th>0</th>\n      <td>2</td>\n      <td>0</td>\n      <td>0</td>\n      <td>0</td>\n      <td>0</td>\n      <td>0</td>\n      <td>0</td>\n      <td>0</td>\n      <td>0</td>\n      <td>0</td>\n      <td>...</td>\n      <td>0</td>\n      <td>0</td>\n      <td>0</td>\n      <td>0</td>\n      <td>0</td>\n      <td>0</td>\n      <td>0</td>\n      <td>0</td>\n      <td>0</td>\n      <td>f/american_bach_soloists-j_s__bach_solo_cantat...</td>\n    </tr>\n    <tr>\n      <th>1</th>\n      <td>6</td>\n      <td>0</td>\n      <td>0</td>\n      <td>0</td>\n      <td>0</td>\n      <td>0</td>\n      <td>0</td>\n      <td>0</td>\n      <td>0</td>\n      <td>0</td>\n      <td>...</td>\n      <td>0</td>\n      <td>0</td>\n      <td>0</td>\n      <td>0</td>\n      <td>0</td>\n      <td>1</td>\n      <td>0</td>\n      <td>0</td>\n      <td>0</td>\n      <td>f/american_bach_soloists-j_s__bach_solo_cantat...</td>\n    </tr>\n    <tr>\n      <th>2</th>\n      <td>10</td>\n      <td>0</td>\n      <td>0</td>\n      <td>0</td>\n      <td>0</td>\n      <td>0</td>\n      <td>0</td>\n      <td>0</td>\n      <td>0</td>\n      <td>0</td>\n      <td>...</td>\n      <td>0</td>\n      <td>0</td>\n      <td>0</td>\n      <td>0</td>\n      <td>0</td>\n      <td>0</td>\n      <td>0</td>\n      <td>0</td>\n      <td>0</td>\n      <td>f/american_bach_soloists-j_s__bach_solo_cantat...</td>\n    </tr>\n    <tr>\n      <th>3</th>\n      <td>11</td>\n      <td>0</td>\n      <td>0</td>\n      <td>0</td>\n      <td>0</td>\n      <td>0</td>\n      <td>0</td>\n      <td>0</td>\n      <td>0</td>\n      <td>0</td>\n      <td>...</td>\n      <td>0</td>\n      <td>0</td>\n      <td>0</td>\n      <td>0</td>\n      <td>0</td>\n      <td>0</td>\n      <td>0</td>\n      <td>0</td>\n      <td>0</td>\n      <td>f/american_bach_soloists-j_s__bach_solo_cantat...</td>\n    </tr>\n    <tr>\n      <th>4</th>\n      <td>12</td>\n      <td>0</td>\n      <td>0</td>\n      <td>0</td>\n      <td>0</td>\n      <td>0</td>\n      <td>0</td>\n      <td>0</td>\n      <td>0</td>\n      <td>0</td>\n      <td>...</td>\n      <td>0</td>\n      <td>0</td>\n      <td>0</td>\n      <td>0</td>\n      <td>0</td>\n      <td>0</td>\n      <td>0</td>\n      <td>0</td>\n      <td>0</td>\n      <td>f/american_bach_soloists-j_s__bach_solo_cantat...</td>\n    </tr>\n  </tbody>\n</table>\n<p>5 rows × 190 columns</p>\n</div>",
      "text/plain": "   clip_id  no voice  singer  duet  plucking  hard rock  world  bongos  \\\n0        2         0       0     0         0          0      0       0   \n1        6         0       0     0         0          0      0       0   \n2       10         0       0     0         0          0      0       0   \n3       11         0       0     0         0          0      0       0   \n4       12         0       0     0         0          0      0       0   \n\n   harpsichord  female singing  ...  rap  metal  hip hop  quick  water  \\\n0            0               0  ...    0      0        0      0      0   \n1            0               0  ...    0      0        0      0      0   \n2            0               0  ...    0      0        0      0      0   \n3            0               0  ...    0      0        0      0      0   \n4            0               0  ...    0      0        0      0      0   \n\n   baroque  women  fiddle  english  \\\n0        0      0       0        0   \n1        1      0       0        0   \n2        0      0       0        0   \n3        0      0       0        0   \n4        0      0       0        0   \n\n                                            mp3_path  \n0  f/american_bach_soloists-j_s__bach_solo_cantat...  \n1  f/american_bach_soloists-j_s__bach_solo_cantat...  \n2  f/american_bach_soloists-j_s__bach_solo_cantat...  \n3  f/american_bach_soloists-j_s__bach_solo_cantat...  \n4  f/american_bach_soloists-j_s__bach_solo_cantat...  \n\n[5 rows x 190 columns]"
     },
     "execution_count": 10,
     "metadata": {},
     "output_type": "execute_result"
    }
   ],
   "source": [
    "annotations = pd.read_csv('./data/annotations_final.csv', delimiter='\\t')\n",
    "annotations.head()"
   ]
  },
  {
   "cell_type": "markdown",
   "metadata": {},
   "source": [
    "Is this a multi label dataset?"
   ]
  },
  {
   "cell_type": "code",
   "execution_count": 15,
   "metadata": {},
   "outputs": [
    {
     "data": {
      "text/plain": "True"
     },
     "execution_count": 15,
     "metadata": {},
     "output_type": "execute_result"
    }
   ],
   "source": [
    "(annotations[annotations.columns[1:-1]].sum(axis=1) > 1).any()"
   ]
  }
 ]
}